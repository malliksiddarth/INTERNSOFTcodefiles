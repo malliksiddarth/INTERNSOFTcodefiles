{
  "nbformat": 4,
  "nbformat_minor": 0,
  "metadata": {
    "colab": {
      "name": "session4.ipynb",
      "provenance": [],
      "collapsed_sections": []
    },
    "kernelspec": {
      "name": "python3",
      "display_name": "Python 3"
    }
  },
  "cells": [
    {
      "cell_type": "code",
      "metadata": {
        "id": "2YNI3O2RMAio",
        "colab_type": "code",
        "colab": {
          "base_uri": "https://localhost:8080/",
          "height": 51
        },
        "outputId": "d4611080-08ea-47fe-f7bc-9b2391d2f81d"
      },
      "source": [
        "class Person:\n",
        "    pass\n",
        "hon = Person()\n",
        "hon.name = \"john\"\n",
        "hon.surename = \"alex\"\n",
        "hon.date_of_birth =1978\n",
        "\n",
        "\n",
        "print(hon)\n",
        "print(\"%s %s  was born on %d.\" % \n",
        "      (hon.name,hon.surename,hon.date_of_birth))"
      ],
      "execution_count": 1,
      "outputs": [
        {
          "output_type": "stream",
          "text": [
            "<__main__.Person object at 0x7f771dbd90b8>\n",
            "john alex  was born on 1978.\n"
          ],
          "name": "stdout"
        }
      ]
    },
    {
      "cell_type": "code",
      "metadata": {
        "id": "6EUxcsIoMDry",
        "colab_type": "code",
        "colab": {}
      },
      "source": [
        "class Person_1:\n",
        "    def __init__(self,name,surename,date_of_birth):\n",
        "        self.name = name\n",
        "        self.surename = surename\n",
        "        self.date_of_birth = date_of_birth\n",
        "        "
      ],
      "execution_count": 0,
      "outputs": []
    },
    {
      "cell_type": "code",
      "metadata": {
        "id": "zEWKqpjxMsvA",
        "colab_type": "code",
        "colab": {
          "base_uri": "https://localhost:8080/",
          "height": 51
        },
        "outputId": "b8a2ad56-a816-419c-b547-f08764bd5961"
      },
      "source": [
        "alec = Person_1(\"aplha\",\"bald\",1999)\n",
        "print(alec)\n",
        "print(\"%s %s was born in %d.\" % (alec.name,alec.surename,alec.date_of_birth))"
      ],
      "execution_count": 9,
      "outputs": [
        {
          "output_type": "stream",
          "text": [
            "<__main__.Person_1 object at 0x7f771d3086d8>\n",
            "aplha bald was born in 1999.\n"
          ],
          "name": "stdout"
        }
      ]
    },
    {
      "cell_type": "code",
      "metadata": {
        "id": "1AORL83sMtl0",
        "colab_type": "code",
        "colab": {
          "base_uri": "https://localhost:8080/",
          "height": 51
        },
        "outputId": "dfe5391f-4785-417d-b05a-c8fddf5fa8ce"
      },
      "source": [
        "class Person_2:\n",
        "    def __init__(self,name,surename,date_of_birth):\n",
        "        self.name = name\n",
        "        self.surename = surename\n",
        "        self.date_of_birth = date_of_birth\n",
        "        \n",
        "    def age(self,curent_year):\n",
        "        return curent_year - self.date_of_birth\n",
        "    def __str__(self):\n",
        "        return \"%s %s was born in %d.\" % (self.name,self.surename,self.date_of_birth)\n",
        "\n",
        "alec = Person_2(\"pha\",\"baldwi\",1990)\n",
        "print(alec)\n",
        "print(alec.age(2019))"
      ],
      "execution_count": 13,
      "outputs": [
        {
          "output_type": "stream",
          "text": [
            "pha baldwi was born in 1990.\n",
            "29\n"
          ],
          "name": "stdout"
        }
      ]
    },
    {
      "cell_type": "code",
      "metadata": {
        "id": "_lqdSJanNb5n",
        "colab_type": "code",
        "colab": {
          "base_uri": "https://localhost:8080/",
          "height": 51
        },
        "outputId": "968513f3-0f01-4baa-f05e-c0306f74e71a"
      },
      "source": [
        "class Person_2:\n",
        "    def __init__(self,name,surename,date_of_birth):\n",
        "        self.name = name\n",
        "        self.surename = surename\n",
        "        self.date_of_birth = date_of_birth\n",
        "        \n",
        "    def age(self,curent_year):\n",
        "        return curent_year - self.date_of_birth\n",
        "    def __str__(self):\n",
        "        return \"%s %s was born in %d.\" % (self.name,self.surename,self.date_of_birth)\n",
        "\n",
        "alec = Person_2(\"pac\",\"baldii\",1900)\n",
        "print(alec)\n",
        "print(alec.age(2019))"
      ],
      "execution_count": 14,
      "outputs": [
        {
          "output_type": "stream",
          "text": [
            "pac baldii was born in 1900.\n",
            "119\n"
          ],
          "name": "stdout"
        }
      ]
    },
    {
      "cell_type": "code",
      "metadata": {
        "id": "doG1iKRLOmFU",
        "colab_type": "code",
        "colab": {
          "base_uri": "https://localhost:8080/",
          "height": 87
        },
        "outputId": "6f40535e-5d0e-4223-9a10-c93d42e5e1ab"
      },
      "source": [
        "class Student(Person_2):\n",
        "  def __init__(self,student_id,*args,**kwargs):\n",
        "    super(Student,self).__init__(*args,**kwargs)\n",
        "    self._student_id = student_id\n",
        "\n",
        "charlie = Student(1,'Charlie','Brown',2006)\n",
        "print(charlie)\n",
        "print(type(charlie))\n",
        "print(isinstance(charlie,Person_2))\n",
        "print(isinstance(charlie,object)) \n"
      ],
      "execution_count": 17,
      "outputs": [
        {
          "output_type": "stream",
          "text": [
            "Charlie Brown was born in 2006.\n",
            "<class '__main__.Student'>\n",
            "True\n",
            "True\n"
          ],
          "name": "stdout"
        }
      ]
    },
    {
      "cell_type": "code",
      "metadata": {
        "id": "glpHkE1ZQ912",
        "colab_type": "code",
        "colab": {
          "base_uri": "https://localhost:8080/",
          "height": 34
        },
        "outputId": "4bf89f28-a085-49f6-c9d5-fe3a99dae3b4"
      },
      "source": [
        "#method overriding \n",
        "class Student(Person_2):\n",
        "    def __init__(self, student_id, *args, **kwargs):\n",
        "        super(Student, self).__init__(*args, **kwargs)\n",
        "        self._student_id = student_id\n",
        "        \n",
        "    def __str__(self):\n",
        "        return super(Student, self).__str__() + \" And has ID: %d\" % self._student_id\n",
        "        \n",
        "charlie = Student(1, 'Charlie', 'Brown', 2006)\n",
        "print(charlie)"
      ],
      "execution_count": 38,
      "outputs": [
        {
          "output_type": "stream",
          "text": [
            "Charlie Brown was born in 2006. And has ID: 1\n"
          ],
          "name": "stdout"
        }
      ]
    },
    {
      "cell_type": "code",
      "metadata": {
        "id": "UPhmrS_UThZr",
        "colab_type": "code",
        "colab": {
          "base_uri": "https://localhost:8080/",
          "height": 70
        },
        "outputId": "b6a37229-e7d7-4749-b15d-d5cfbe31345a"
      },
      "source": [
        "def summer(a,b):\n",
        "  return a+b\n",
        "print(summer(1,1))\n",
        "print(summer(['a','b','c' ] ,['a','b','c']))\n",
        "print(summer(\"abbbabb\", \"baracada\"))"
      ],
      "execution_count": 44,
      "outputs": [
        {
          "output_type": "stream",
          "text": [
            "2\n",
            "['a', 'b', 'c', 'a', 'b', 'c']\n",
            "abbbabbbaracada\n"
          ],
          "name": "stdout"
        }
      ]
    },
    {
      "cell_type": "code",
      "metadata": {
        "id": "4QP2g8QBZ6NY",
        "colab_type": "code",
        "colab": {
          "base_uri": "https://localhost:8080/",
          "height": 34
        },
        "outputId": "4e1048a4-c303-45de-b1de-866112d9232d"
      },
      "source": [
        "%%writefile superman.txt\n",
        "Hello, this is a quick superman test file"
      ],
      "execution_count": 46,
      "outputs": [
        {
          "output_type": "stream",
          "text": [
            "Overwriting superman.txt\n"
          ],
          "name": "stdout"
        }
      ]
    },
    {
      "cell_type": "code",
      "metadata": {
        "id": "NPMPAhlldo6Q",
        "colab_type": "code",
        "colab": {}
      },
      "source": [
        "my_file = open('superman.txt')"
      ],
      "execution_count": 0,
      "outputs": []
    },
    {
      "cell_type": "code",
      "metadata": {
        "id": "TjIpepgCgNao",
        "colab_type": "code",
        "colab": {
          "base_uri": "https://localhost:8080/",
          "height": 34
        },
        "outputId": "f70b7adc-b161-4a63-b485-422be9d9f3a8"
      },
      "source": [
        "my_file.read()"
      ],
      "execution_count": 49,
      "outputs": [
        {
          "output_type": "execute_result",
          "data": {
            "text/plain": [
              "'Hello, this is a quick superman test file'"
            ]
          },
          "metadata": {
            "tags": []
          },
          "execution_count": 49
        }
      ]
    },
    {
      "cell_type": "code",
      "metadata": {
        "id": "nxPZi6poggRK",
        "colab_type": "code",
        "colab": {}
      },
      "source": [
        ""
      ],
      "execution_count": 0,
      "outputs": []
    },
    {
      "cell_type": "code",
      "metadata": {
        "id": "QeD7LXu8hbsf",
        "colab_type": "code",
        "colab": {
          "base_uri": "https://localhost:8080/",
          "height": 34
        },
        "outputId": "7b072697-b8f4-4015-cf12-2538362d0029"
      },
      "source": [
        "my_file.read()"
      ],
      "execution_count": 50,
      "outputs": [
        {
          "output_type": "execute_result",
          "data": {
            "text/plain": [
              "''"
            ]
          },
          "metadata": {
            "tags": []
          },
          "execution_count": 50
        }
      ]
    },
    {
      "cell_type": "code",
      "metadata": {
        "id": "NwnyjfO0hbqv",
        "colab_type": "code",
        "colab": {
          "base_uri": "https://localhost:8080/",
          "height": 34
        },
        "outputId": "23145d32-4b88-4ce4-d97b-705b2ecbb6c8"
      },
      "source": [
        "my_file.seek(0)"
      ],
      "execution_count": 51,
      "outputs": [
        {
          "output_type": "execute_result",
          "data": {
            "text/plain": [
              "0"
            ]
          },
          "metadata": {
            "tags": []
          },
          "execution_count": 51
        }
      ]
    },
    {
      "cell_type": "code",
      "metadata": {
        "id": "BnJBPi82hpXY",
        "colab_type": "code",
        "colab": {
          "base_uri": "https://localhost:8080/",
          "height": 34
        },
        "outputId": "3115245e-f0d8-48c6-e05a-1ffcf0b10113"
      },
      "source": [
        "my_file.read()"
      ],
      "execution_count": 52,
      "outputs": [
        {
          "output_type": "execute_result",
          "data": {
            "text/plain": [
              "'Hello, this is a quick superman test file'"
            ]
          },
          "metadata": {
            "tags": []
          },
          "execution_count": 52
        }
      ]
    },
    {
      "cell_type": "code",
      "metadata": {
        "id": "wvaqrl1yhtWJ",
        "colab_type": "code",
        "colab": {
          "base_uri": "https://localhost:8080/",
          "height": 34
        },
        "outputId": "f2f8e321-5e02-4fec-96e9-a63ab24e6f20"
      },
      "source": [
        "my_file.readlines()"
      ],
      "execution_count": 53,
      "outputs": [
        {
          "output_type": "execute_result",
          "data": {
            "text/plain": [
              "[]"
            ]
          },
          "metadata": {
            "tags": []
          },
          "execution_count": 53
        }
      ]
    },
    {
      "cell_type": "code",
      "metadata": {
        "id": "LUmLRsYxiGkm",
        "colab_type": "code",
        "colab": {}
      },
      "source": [
        "my_file = open('superman.txt','w+') "
      ],
      "execution_count": 0,
      "outputs": []
    },
    {
      "cell_type": "code",
      "metadata": {
        "id": "Y72UkNaYjRoJ",
        "colab_type": "code",
        "colab": {
          "base_uri": "https://localhost:8080/",
          "height": 34
        },
        "outputId": "4808d330-cf0c-4306-eb59-fe85a129f5a1"
      },
      "source": [
        "my_file.write(\"this is new line\")"
      ],
      "execution_count": 57,
      "outputs": [
        {
          "output_type": "execute_result",
          "data": {
            "text/plain": [
              "16"
            ]
          },
          "metadata": {
            "tags": []
          },
          "execution_count": 57
        }
      ]
    },
    {
      "cell_type": "code",
      "metadata": {
        "id": "ZREhZc6zkaUP",
        "colab_type": "code",
        "colab": {
          "base_uri": "https://localhost:8080/",
          "height": 34
        },
        "outputId": "aecc2063-dd93-488e-9887-f0a8262f1534"
      },
      "source": [
        "my_file.seek(0)"
      ],
      "execution_count": 58,
      "outputs": [
        {
          "output_type": "execute_result",
          "data": {
            "text/plain": [
              "0"
            ]
          },
          "metadata": {
            "tags": []
          },
          "execution_count": 58
        }
      ]
    },
    {
      "cell_type": "code",
      "metadata": {
        "id": "ktSr8awokdO9",
        "colab_type": "code",
        "colab": {
          "base_uri": "https://localhost:8080/",
          "height": 34
        },
        "outputId": "f4541c86-c870-437d-d2b6-138399ced0ef"
      },
      "source": [
        "my_file.read()"
      ],
      "execution_count": 59,
      "outputs": [
        {
          "output_type": "execute_result",
          "data": {
            "text/plain": [
              "'this is new line'"
            ]
          },
          "metadata": {
            "tags": []
          },
          "execution_count": 59
        }
      ]
    },
    {
      "cell_type": "code",
      "metadata": {
        "id": "EbKVIJWWkglm",
        "colab_type": "code",
        "colab": {
          "base_uri": "https://localhost:8080/",
          "height": 34
        },
        "outputId": "5506ac19-b93e-478f-9c1c-be76b8423c1e"
      },
      "source": [
        "%%writefile test.txt\n",
        "first line\n",
        "second line"
      ],
      "execution_count": 60,
      "outputs": [
        {
          "output_type": "stream",
          "text": [
            "Writing test.txt\n"
          ],
          "name": "stdout"
        }
      ]
    },
    {
      "cell_type": "code",
      "metadata": {
        "id": "8GRfY55iojVK",
        "colab_type": "code",
        "colab": {
          "base_uri": "https://localhost:8080/",
          "height": 70
        },
        "outputId": "0e5ebc5a-26ae-474f-a45c-22112689ca36"
      },
      "source": [
        "for line in open('test.txt'):\n",
        "    print(line) "
      ],
      "execution_count": 64,
      "outputs": [
        {
          "output_type": "stream",
          "text": [
            "first line\n",
            "\n",
            "second line\n"
          ],
          "name": "stdout"
        }
      ]
    },
    {
      "cell_type": "code",
      "metadata": {
        "id": "IP0bXqQdpaqc",
        "colab_type": "code",
        "colab": {
          "base_uri": "https://localhost:8080/",
          "height": 70
        },
        "outputId": "62247b1d-944e-4aca-fe19-0d6f6bd02b49"
      },
      "source": [
        "for asddf in open('test.txt'):\n",
        "    print(asddf) "
      ],
      "execution_count": 65,
      "outputs": [
        {
          "output_type": "stream",
          "text": [
            "first line\n",
            "\n",
            "second line\n"
          ],
          "name": "stdout"
        }
      ]
    },
    {
      "cell_type": "code",
      "metadata": {
        "id": "jaTbpO5-qxPK",
        "colab_type": "code",
        "colab": {}
      },
      "source": [
        "from io import StringIO"
      ],
      "execution_count": 0,
      "outputs": []
    },
    {
      "cell_type": "code",
      "metadata": {
        "id": "KpQbBZVorHJH",
        "colab_type": "code",
        "colab": {}
      },
      "source": [
        "message = \"this is a normal string.\""
      ],
      "execution_count": 0,
      "outputs": []
    },
    {
      "cell_type": "code",
      "metadata": {
        "id": "-DNTvE1BrUSn",
        "colab_type": "code",
        "colab": {}
      },
      "source": [
        "f = StringIO(message)"
      ],
      "execution_count": 0,
      "outputs": []
    },
    {
      "cell_type": "code",
      "metadata": {
        "id": "v0qV_36UrcTj",
        "colab_type": "code",
        "colab": {
          "base_uri": "https://localhost:8080/",
          "height": 34
        },
        "outputId": "912128c8-74b2-4624-d06b-410153df393e"
      },
      "source": [
        "f.read()"
      ],
      "execution_count": 80,
      "outputs": [
        {
          "output_type": "execute_result",
          "data": {
            "text/plain": [
              "'this is a normal string'"
            ]
          },
          "metadata": {
            "tags": []
          },
          "execution_count": 80
        }
      ]
    },
    {
      "cell_type": "code",
      "metadata": {
        "id": "pvamxQcnsaLR",
        "colab_type": "code",
        "colab": {
          "base_uri": "https://localhost:8080/",
          "height": 34
        },
        "outputId": "88bdd25e-2c51-46c3-920a-934b4d36ab09"
      },
      "source": [
        "f.write(\"this is second object\")"
      ],
      "execution_count": 84,
      "outputs": [
        {
          "output_type": "execute_result",
          "data": {
            "text/plain": [
              "21"
            ]
          },
          "metadata": {
            "tags": []
          },
          "execution_count": 84
        }
      ]
    },
    {
      "cell_type": "code",
      "metadata": {
        "id": "dDoU1kJ3srFc",
        "colab_type": "code",
        "colab": {
          "base_uri": "https://localhost:8080/",
          "height": 34
        },
        "outputId": "b18be8f2-cbfb-4c22-ec79-0a8d0b907c65"
      },
      "source": [
        "f.seek(0)"
      ],
      "execution_count": 85,
      "outputs": [
        {
          "output_type": "execute_result",
          "data": {
            "text/plain": [
              "0"
            ]
          },
          "metadata": {
            "tags": []
          },
          "execution_count": 85
        }
      ]
    },
    {
      "cell_type": "code",
      "metadata": {
        "id": "Blaji8Vdsw7d",
        "colab_type": "code",
        "colab": {
          "base_uri": "https://localhost:8080/",
          "height": 34
        },
        "outputId": "c648c56b-ed01-4d12-890d-1bb3164ac9cd"
      },
      "source": [
        "f.read()"
      ],
      "execution_count": 86,
      "outputs": [
        {
          "output_type": "execute_result",
          "data": {
            "text/plain": [
              "'this is a normal stringthis is second object'"
            ]
          },
          "metadata": {
            "tags": []
          },
          "execution_count": 86
        }
      ]
    },
    {
      "cell_type": "code",
      "metadata": {
        "id": "LCW5SlHusz93",
        "colab_type": "code",
        "colab": {}
      },
      "source": [
        ""
      ],
      "execution_count": 0,
      "outputs": []
    }
  ]
}