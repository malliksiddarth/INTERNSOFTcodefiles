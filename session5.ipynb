{
  "nbformat": 4,
  "nbformat_minor": 0,
  "metadata": {
    "colab": {
      "name": "session5.ipynb",
      "provenance": []
    },
    "kernelspec": {
      "name": "python3",
      "display_name": "Python 3"
    }
  },
  "cells": [
    {
      "cell_type": "code",
      "metadata": {
        "id": "uQirDvTKdGIb",
        "colab_type": "code",
        "colab": {}
      },
      "source": [
        "import math\n"
      ],
      "execution_count": 0,
      "outputs": []
    },
    {
      "cell_type": "code",
      "metadata": {
        "id": "cli4HkxSiaYt",
        "colab_type": "code",
        "colab": {
          "base_uri": "https://localhost:8080/",
          "height": 34
        },
        "outputId": "c26d12e0-6129-472e-9380-d8b90c8b16a4"
      },
      "source": [
        "math.ceil(2.3)"
      ],
      "execution_count": 3,
      "outputs": [
        {
          "output_type": "execute_result",
          "data": {
            "text/plain": [
              "3"
            ]
          },
          "metadata": {
            "tags": []
          },
          "execution_count": 3
        }
      ]
    },
    {
      "cell_type": "code",
      "metadata": {
        "id": "3X5SLOExidkv",
        "colab_type": "code",
        "colab": {
          "base_uri": "https://localhost:8080/",
          "height": 54
        },
        "outputId": "1f00f17b-5d8d-4973-a72b-9eb9acebd46b"
      },
      "source": [
        "print(dir(math))"
      ],
      "execution_count": 4,
      "outputs": [
        {
          "output_type": "stream",
          "text": [
            "['__doc__', '__loader__', '__name__', '__package__', '__spec__', 'acos', 'acosh', 'asin', 'asinh', 'atan', 'atan2', 'atanh', 'ceil', 'copysign', 'cos', 'cosh', 'degrees', 'e', 'erf', 'erfc', 'exp', 'expm1', 'fabs', 'factorial', 'floor', 'fmod', 'frexp', 'fsum', 'gamma', 'gcd', 'hypot', 'inf', 'isclose', 'isfinite', 'isinf', 'isnan', 'ldexp', 'lgamma', 'log', 'log10', 'log1p', 'log2', 'modf', 'nan', 'pi', 'pow', 'radians', 'sin', 'sinh', 'sqrt', 'tan', 'tanh', 'tau', 'trunc']\n"
          ],
          "name": "stdout"
        }
      ]
    },
    {
      "cell_type": "code",
      "metadata": {
        "id": "3NXBsY1HjR6m",
        "colab_type": "code",
        "colab": {
          "base_uri": "https://localhost:8080/",
          "height": 158
        },
        "outputId": "e8d529d6-fbf0-48b5-c3b0-406a4977cb21"
      },
      "source": [
        "help(math.ceil)"
      ],
      "execution_count": 5,
      "outputs": [
        {
          "output_type": "stream",
          "text": [
            "Help on built-in function ceil in module math:\n",
            "\n",
            "ceil(...)\n",
            "    ceil(x)\n",
            "    \n",
            "    Return the ceiling of x as an Integral.\n",
            "    This is the smallest integer >= x.\n",
            "\n"
          ],
          "name": "stdout"
        }
      ]
    },
    {
      "cell_type": "code",
      "metadata": {
        "id": "-unuRPyRjxQR",
        "colab_type": "code",
        "colab": {
          "base_uri": "https://localhost:8080/",
          "height": 34
        },
        "outputId": "1db0846e-5035-471b-c550-11d8e9b2c322"
      },
      "source": [
        "math.floor(2.3)"
      ],
      "execution_count": 6,
      "outputs": [
        {
          "output_type": "execute_result",
          "data": {
            "text/plain": [
              "2"
            ]
          },
          "metadata": {
            "tags": []
          },
          "execution_count": 6
        }
      ]
    },
    {
      "cell_type": "code",
      "metadata": {
        "id": "Nu_roMaBkTnf",
        "colab_type": "code",
        "colab": {
          "base_uri": "https://localhost:8080/",
          "height": 310
        },
        "outputId": "8c419d1c-b8ac-4b53-adf3-f980b5854dd1"
      },
      "source": [
        "import foo.bar"
      ],
      "execution_count": 7,
      "outputs": [
        {
          "output_type": "error",
          "ename": "ModuleNotFoundError",
          "evalue": "ignored",
          "traceback": [
            "\u001b[0;31m---------------------------------------------------------------------------\u001b[0m",
            "\u001b[0;31mModuleNotFoundError\u001b[0m                       Traceback (most recent call last)",
            "\u001b[0;32m<ipython-input-7-55da487b42c6>\u001b[0m in \u001b[0;36m<module>\u001b[0;34m()\u001b[0m\n\u001b[0;32m----> 1\u001b[0;31m \u001b[0;32mimport\u001b[0m \u001b[0mfoo\u001b[0m\u001b[0;34m.\u001b[0m\u001b[0mbar\u001b[0m\u001b[0;34m\u001b[0m\u001b[0;34m\u001b[0m\u001b[0m\n\u001b[0m",
            "\u001b[0;31mModuleNotFoundError\u001b[0m: No module named 'foo'",
            "",
            "\u001b[0;31m---------------------------------------------------------------------------\u001b[0;32m\nNOTE: If your import is failing due to a missing package, you can\nmanually install dependencies using either !pip or !apt.\n\nTo view examples of installing some common dependencies, click the\n\"Open Examples\" button below.\n\u001b[0;31m---------------------------------------------------------------------------\u001b[0m\n"
          ]
        }
      ]
    },
    {
      "cell_type": "code",
      "metadata": {
        "id": "91mYf6Y3lTQB",
        "colab_type": "code",
        "colab": {
          "base_uri": "https://localhost:8080/",
          "height": 310
        },
        "outputId": "3d97e308-2fc8-4377-f4f0-5d9a481a1c03"
      },
      "source": [
        "from foo import bar"
      ],
      "execution_count": 8,
      "outputs": [
        {
          "output_type": "error",
          "ename": "ModuleNotFoundError",
          "evalue": "ignored",
          "traceback": [
            "\u001b[0;31m---------------------------------------------------------------------------\u001b[0m",
            "\u001b[0;31mModuleNotFoundError\u001b[0m                       Traceback (most recent call last)",
            "\u001b[0;32m<ipython-input-8-17c8219278ab>\u001b[0m in \u001b[0;36m<module>\u001b[0;34m()\u001b[0m\n\u001b[0;32m----> 1\u001b[0;31m \u001b[0;32mfrom\u001b[0m \u001b[0mfoo\u001b[0m \u001b[0;32mimport\u001b[0m \u001b[0mbar\u001b[0m\u001b[0;34m\u001b[0m\u001b[0;34m\u001b[0m\u001b[0m\n\u001b[0m",
            "\u001b[0;31mModuleNotFoundError\u001b[0m: No module named 'foo'",
            "",
            "\u001b[0;31m---------------------------------------------------------------------------\u001b[0;32m\nNOTE: If your import is failing due to a missing package, you can\nmanually install dependencies using either !pip or !apt.\n\nTo view examples of installing some common dependencies, click the\n\"Open Examples\" button below.\n\u001b[0;31m---------------------------------------------------------------------------\u001b[0m\n"
          ]
        }
      ]
    },
    {
      "cell_type": "code",
      "metadata": {
        "id": "SvZFiu8xld7l",
        "colab_type": "code",
        "colab": {
          "base_uri": "https://localhost:8080/",
          "height": 132
        },
        "outputId": "e8dfbb48-ec47-46b4-b891-f7a71c181257"
      },
      "source": [
        "_init_.py:\n",
        "__all__ =['bar']"
      ],
      "execution_count": 9,
      "outputs": [
        {
          "output_type": "error",
          "ename": "SyntaxError",
          "evalue": "ignored",
          "traceback": [
            "\u001b[0;36m  File \u001b[0;32m\"<ipython-input-9-9e0c9800e8da>\"\u001b[0;36m, line \u001b[0;32m1\u001b[0m\n\u001b[0;31m    _init_.py:\u001b[0m\n\u001b[0m              ^\u001b[0m\n\u001b[0;31mSyntaxError\u001b[0m\u001b[0;31m:\u001b[0m invalid syntax\n"
          ]
        }
      ]
    },
    {
      "cell_type": "code",
      "metadata": {
        "id": "unyzGOabl8-v",
        "colab_type": "code",
        "colab": {
          "base_uri": "https://localhost:8080/",
          "height": 132
        },
        "outputId": "196b06b3-0338-47b9-9e71-1a0aad71a923"
      },
      "source": [
        "print('hi)"
      ],
      "execution_count": 10,
      "outputs": [
        {
          "output_type": "error",
          "ename": "SyntaxError",
          "evalue": "ignored",
          "traceback": [
            "\u001b[0;36m  File \u001b[0;32m\"<ipython-input-10-8878a92e9096>\"\u001b[0;36m, line \u001b[0;32m1\u001b[0m\n\u001b[0;31m    print('hi)\u001b[0m\n\u001b[0m              ^\u001b[0m\n\u001b[0;31mSyntaxError\u001b[0m\u001b[0;31m:\u001b[0m EOL while scanning string literal\n"
          ]
        }
      ]
    },
    {
      "cell_type": "code",
      "metadata": {
        "id": "UFQ-xBtlmC1N",
        "colab_type": "code",
        "colab": {
          "base_uri": "https://localhost:8080/",
          "height": 34
        },
        "outputId": "3f701f88-38f1-467f-9f46-a1e17135ee35"
      },
      "source": [
        "try:\n",
        "  f = open('testfile','w')\n",
        "  f.write(\"test write this\")\n",
        "except IOError:\n",
        "  print(\"file not found\")\n",
        "else :\n",
        "  print('written successfully')\n",
        "f.close()\n"
      ],
      "execution_count": 11,
      "outputs": [
        {
          "output_type": "stream",
          "text": [
            "written successfully\n"
          ],
          "name": "stdout"
        }
      ]
    },
    {
      "cell_type": "code",
      "metadata": {
        "id": "LRh9eEv7nixB",
        "colab_type": "code",
        "colab": {
          "base_uri": "https://localhost:8080/",
          "height": 34
        },
        "outputId": "fe2592ec-1d6d-4769-f993-fe7f5f81c673"
      },
      "source": [
        "try:\n",
        "  f = open('testfile','r')\n",
        "  f.write(\"test write this\")\n",
        "except IOError:\n",
        "  print(\"file not found or read\")\n",
        "else :\n",
        "  print('written successfully')\n",
        "f.close()\n"
      ],
      "execution_count": 13,
      "outputs": [
        {
          "output_type": "stream",
          "text": [
            "file not found or read\n"
          ],
          "name": "stdout"
        }
      ]
    },
    {
      "cell_type": "code",
      "metadata": {
        "id": "tcfgSxbJn-ey",
        "colab_type": "code",
        "colab": {
          "base_uri": "https://localhost:8080/",
          "height": 34
        },
        "outputId": "b16d1784-d42f-4346-d5ba-170d762431e7"
      },
      "source": [
        "try:\n",
        "  f = open('testfile','w')\n",
        "  f.write(\"test write this\")\n",
        "except IOError:\n",
        "  print(\"file not found or read\")\n",
        "else :\n",
        "  print('written successfully')\n",
        "f.close()\n"
      ],
      "execution_count": 14,
      "outputs": [
        {
          "output_type": "stream",
          "text": [
            "written successfully\n"
          ],
          "name": "stdout"
        }
      ]
    },
    {
      "cell_type": "code",
      "metadata": {
        "id": "t6Yy7Ev7pmBf",
        "colab_type": "code",
        "colab": {
          "base_uri": "https://localhost:8080/",
          "height": 34
        },
        "outputId": "50622b81-9cd7-46e0-9072-4e2fee0ae91a"
      },
      "source": [
        "try:\n",
        "  f = open('testfile','w')\n",
        "  f.write(\"test write this\")\n",
        "finally:\n",
        "  print(\"always execute finally code blocks\")"
      ],
      "execution_count": 15,
      "outputs": [
        {
          "output_type": "stream",
          "text": [
            "always execute finally code blocks\n"
          ],
          "name": "stdout"
        }
      ]
    },
    {
      "cell_type": "code",
      "metadata": {
        "id": "hg6Qu3qRqCDF",
        "colab_type": "code",
        "colab": {}
      },
      "source": [
        "def askint():\n",
        "  try:\n",
        "    val =int(input(\"enter a number:\"))\n",
        "  except:\n",
        "    print(\"not an integer\")\n",
        "  finally:\n",
        "    print('It is executed')\n",
        "\n",
        "  print(val)\n"
      ],
      "execution_count": 0,
      "outputs": []
    },
    {
      "cell_type": "code",
      "metadata": {
        "id": "3Jid7IqVqx4i",
        "colab_type": "code",
        "colab": {
          "base_uri": "https://localhost:8080/",
          "height": 70
        },
        "outputId": "fe309a10-afcf-46ad-c374-6b4ff7094be2"
      },
      "source": [
        "askint()"
      ],
      "execution_count": 20,
      "outputs": [
        {
          "output_type": "stream",
          "text": [
            "enter a number:90\n",
            "It is executed\n",
            "90\n"
          ],
          "name": "stdout"
        }
      ]
    },
    {
      "cell_type": "code",
      "metadata": {
        "id": "TplKJihtrGMI",
        "colab_type": "code",
        "colab": {
          "base_uri": "https://localhost:8080/",
          "height": 70
        },
        "outputId": "8e7c0716-ca05-4752-ed25-272ee1790a15"
      },
      "source": [
        "askint()"
      ],
      "execution_count": 21,
      "outputs": [
        {
          "output_type": "stream",
          "text": [
            "enter a number:0\n",
            "It is executed\n",
            "0\n"
          ],
          "name": "stdout"
        }
      ]
    },
    {
      "cell_type": "code",
      "metadata": {
        "id": "LkvuF1zSrKtt",
        "colab_type": "code",
        "colab": {
          "base_uri": "https://localhost:8080/",
          "height": 70
        },
        "outputId": "b345cd49-c278-45de-fc53-64490b9916ad"
      },
      "source": [
        "askint()"
      ],
      "execution_count": 23,
      "outputs": [
        {
          "output_type": "stream",
          "text": [
            "enter a number:-1\n",
            "It is executed\n",
            "-1\n"
          ],
          "name": "stdout"
        }
      ]
    },
    {
      "cell_type": "code",
      "metadata": {
        "id": "ofnVzocrrNvb",
        "colab_type": "code",
        "colab": {
          "base_uri": "https://localhost:8080/",
          "height": 310
        },
        "outputId": "6911f450-09d9-4ecd-e72f-6132056be8c2"
      },
      "source": [
        "askint()"
      ],
      "execution_count": 24,
      "outputs": [
        {
          "output_type": "stream",
          "text": [
            "enter a number:abc\n",
            "not an integer\n",
            "It is executed\n"
          ],
          "name": "stdout"
        },
        {
          "output_type": "error",
          "ename": "UnboundLocalError",
          "evalue": "ignored",
          "traceback": [
            "\u001b[0;31m---------------------------------------------------------------------------\u001b[0m",
            "\u001b[0;31mUnboundLocalError\u001b[0m                         Traceback (most recent call last)",
            "\u001b[0;32m<ipython-input-24-cc291aa76c10>\u001b[0m in \u001b[0;36m<module>\u001b[0;34m()\u001b[0m\n\u001b[0;32m----> 1\u001b[0;31m \u001b[0maskint\u001b[0m\u001b[0;34m(\u001b[0m\u001b[0;34m)\u001b[0m\u001b[0;34m\u001b[0m\u001b[0;34m\u001b[0m\u001b[0m\n\u001b[0m",
            "\u001b[0;32m<ipython-input-19-3f4643a29f9f>\u001b[0m in \u001b[0;36maskint\u001b[0;34m()\u001b[0m\n\u001b[1;32m      7\u001b[0m     \u001b[0mprint\u001b[0m\u001b[0;34m(\u001b[0m\u001b[0;34m'It is executed'\u001b[0m\u001b[0;34m)\u001b[0m\u001b[0;34m\u001b[0m\u001b[0;34m\u001b[0m\u001b[0m\n\u001b[1;32m      8\u001b[0m \u001b[0;34m\u001b[0m\u001b[0m\n\u001b[0;32m----> 9\u001b[0;31m   \u001b[0mprint\u001b[0m\u001b[0;34m(\u001b[0m\u001b[0mval\u001b[0m\u001b[0;34m)\u001b[0m\u001b[0;34m\u001b[0m\u001b[0;34m\u001b[0m\u001b[0m\n\u001b[0m",
            "\u001b[0;31mUnboundLocalError\u001b[0m: local variable 'val' referenced before assignment"
          ]
        }
      ]
    },
    {
      "cell_type": "code",
      "metadata": {
        "id": "LIJWd7fVryPo",
        "colab_type": "code",
        "colab": {}
      },
      "source": [
        "def askint():\n",
        "  try:\n",
        "    val =int(input(\"enter a number:\"))\n",
        "  except:\n",
        "    print(\"it is not an integer\")\n",
        "    val = int(input(\"enter a interger:\"))\n",
        "  finally:\n",
        "    print('Finally,It is executed')\n",
        "\n",
        "  print(val)"
      ],
      "execution_count": 0,
      "outputs": []
    },
    {
      "cell_type": "code",
      "metadata": {
        "id": "mfVJEKdQsffw",
        "colab_type": "code",
        "colab": {
          "base_uri": "https://localhost:8080/",
          "height": 105
        },
        "outputId": "acd7d047-13db-4aba-9d0b-bb6d6611fcf7"
      },
      "source": [
        "askint()"
      ],
      "execution_count": 26,
      "outputs": [
        {
          "output_type": "stream",
          "text": [
            "enter a number:str\n",
            "it is not an integer\n",
            "enter a interger:23\n",
            "Finally,It is executed\n",
            "23\n"
          ],
          "name": "stdout"
        }
      ]
    },
    {
      "cell_type": "code",
      "metadata": {
        "id": "j1gFqujZshWr",
        "colab_type": "code",
        "colab": {}
      },
      "source": [
        "def askint():\n",
        "  while True:\n",
        "         try:\n",
        "             val =int(input(\"enter a number:\"))\n",
        "         except:\n",
        "               print(\"it is not an integer\")\n",
        "               continue\n",
        "         else:\n",
        "             print(\"it is integer\")   \n",
        "             break\n",
        "         finally:\n",
        "              print('Finally,It is executed')\n",
        "         print(val) "
      ],
      "execution_count": 0,
      "outputs": []
    },
    {
      "cell_type": "code",
      "metadata": {
        "id": "i-5Hmntks5-6",
        "colab_type": "code",
        "colab": {
          "base_uri": "https://localhost:8080/",
          "height": 123
        },
        "outputId": "d3d51943-8d36-4ab3-95db-1b773abd95a2"
      },
      "source": [
        "askint()"
      ],
      "execution_count": 33,
      "outputs": [
        {
          "output_type": "stream",
          "text": [
            "enter a number:str\n",
            "it is not an integer\n",
            "Finally,It is executed\n",
            "enter a number:23\n",
            "it is integer\n",
            "Finally,It is executed\n"
          ],
          "name": "stdout"
        }
      ]
    },
    {
      "cell_type": "code",
      "metadata": {
        "id": "ota2MmjYt_OC",
        "colab_type": "code",
        "colab": {
          "base_uri": "https://localhost:8080/",
          "height": 34
        },
        "outputId": "80784e05-1cf1-4344-cd5a-7ca81338004b"
      },
      "source": [
        "import sqlite3\n",
        "db = sqlite3.connect(\"my_database1.db\")\n",
        "db.execute(\"drop table if exists grade1\")\n",
        "db.execute(\"create table grade1(id int,name txt,score int)\")\n",
        "db.execute(\"insert into grade1(id,name,score) values(12,'nithin',23)\")\n",
        "db.execute(\"insert into grade1(id,name,score) values(10,'nithi',20)\")\n",
        "db.execute(\"insert into grade1(id,name,score) values(2,'nithu',29)\")\n",
        "db.execute(\"insert into grade1(id,name,score) values(120,'nithiniii',239)\")\n",
        "\n",
        "\n",
        "\n"
      ],
      "execution_count": 36,
      "outputs": [
        {
          "output_type": "execute_result",
          "data": {
            "text/plain": [
              "<sqlite3.Cursor at 0x7f850da63260>"
            ]
          },
          "metadata": {
            "tags": []
          },
          "execution_count": 36
        }
      ]
    },
    {
      "cell_type": "code",
      "metadata": {
        "id": "fC7Bt1ldxPEm",
        "colab_type": "code",
        "colab": {}
      },
      "source": [
        "db.commit()"
      ],
      "execution_count": 0,
      "outputs": []
    },
    {
      "cell_type": "code",
      "metadata": {
        "id": "dIzPNNgCx2Az",
        "colab_type": "code",
        "colab": {
          "base_uri": "https://localhost:8080/",
          "height": 105
        },
        "outputId": "04c76f52-9737-4f81-b37a-b10005777296"
      },
      "source": [
        "results = db.execute(\"select * from grade1 order by id\")\n",
        "for row in results:\n",
        "  print(row)\n",
        "print('-'*56)"
      ],
      "execution_count": 41,
      "outputs": [
        {
          "output_type": "stream",
          "text": [
            "(2, 'nithu', 29)\n",
            "(10, 'nithi', 20)\n",
            "(12, 'nithin', 23)\n",
            "(120, 'nithiniii', 239)\n",
            "--------------------------------------------------------\n"
          ],
          "name": "stdout"
        }
      ]
    },
    {
      "cell_type": "code",
      "metadata": {
        "id": "VVdWniLnyYZ0",
        "colab_type": "code",
        "colab": {
          "base_uri": "https://localhost:8080/",
          "height": 52
        },
        "outputId": "68fbad62-480b-4261-abeb-6e73ab682103"
      },
      "source": [
        "results = db.execute(\"select * from grade1 where name ='nithin'\")\n",
        "for row in results:\n",
        "  print(row)\n",
        "print('-'*56)"
      ],
      "execution_count": 43,
      "outputs": [
        {
          "output_type": "stream",
          "text": [
            "(12, 'nithin', 23)\n",
            "--------------------------------------------------------\n"
          ],
          "name": "stdout"
        }
      ]
    },
    {
      "cell_type": "code",
      "metadata": {
        "id": "TbEkcVX2y9Y8",
        "colab_type": "code",
        "colab": {
          "base_uri": "https://localhost:8080/",
          "height": 87
        },
        "outputId": "da7c9acf-4fa4-4eb8-f6f0-a8834a18d4d8"
      },
      "source": [
        "results = db.execute(\"select * from grade1 where score <= 29\")\n",
        "for row in results:\n",
        "  print(row)\n",
        "print('-'*56)"
      ],
      "execution_count": 44,
      "outputs": [
        {
          "output_type": "stream",
          "text": [
            "(12, 'nithin', 23)\n",
            "(10, 'nithi', 20)\n",
            "(2, 'nithu', 29)\n",
            "--------------------------------------------------------\n"
          ],
          "name": "stdout"
        }
      ]
    },
    {
      "cell_type": "code",
      "metadata": {
        "id": "hhiclrtqzfW0",
        "colab_type": "code",
        "colab": {
          "base_uri": "https://localhost:8080/",
          "height": 105
        },
        "outputId": "c9e53b07-e26a-4c26-cbe7-9f0978040048"
      },
      "source": [
        "results = db.execute(\"select name, score  from grade1 order by score  desc\")\n",
        "for row in results:\n",
        "  print(row)\n",
        "print('-'*56)"
      ],
      "execution_count": 48,
      "outputs": [
        {
          "output_type": "stream",
          "text": [
            "('nithiniii', 239)\n",
            "('nithu', 29)\n",
            "('nithin', 23)\n",
            "('nithi', 20)\n",
            "--------------------------------------------------------\n"
          ],
          "name": "stdout"
        }
      ]
    },
    {
      "cell_type": "code",
      "metadata": {
        "id": "3jBOQz3SzxNT",
        "colab_type": "code",
        "colab": {
          "base_uri": "https://localhost:8080/",
          "height": 105
        },
        "outputId": "3cc2fabe-3904-4367-d5d8-4a60344077db"
      },
      "source": [
        "results = db.execute(\"select name, score  from grade1 order by score  \")\n",
        "for row in results:\n",
        "  print(row)\n",
        "print('-'*56)"
      ],
      "execution_count": 49,
      "outputs": [
        {
          "output_type": "stream",
          "text": [
            "('nithi', 20)\n",
            "('nithin', 23)\n",
            "('nithu', 29)\n",
            "('nithiniii', 239)\n",
            "--------------------------------------------------------\n"
          ],
          "name": "stdout"
        }
      ]
    },
    {
      "cell_type": "code",
      "metadata": {
        "id": "-D2weTfd0Lyj",
        "colab_type": "code",
        "colab": {
          "base_uri": "https://localhost:8080/",
          "height": 87
        },
        "outputId": "dab75eb3-835e-46b7-d88c-2739c8f3726e"
      },
      "source": [
        "results = db.execute(\"select name, score  from grade1 order by score  \")\n",
        "for row in results:\n",
        "  print(row)"
      ],
      "execution_count": 50,
      "outputs": [
        {
          "output_type": "stream",
          "text": [
            "('nithi', 20)\n",
            "('nithin', 23)\n",
            "('nithu', 29)\n",
            "('nithiniii', 239)\n"
          ],
          "name": "stdout"
        }
      ]
    },
    {
      "cell_type": "code",
      "metadata": {
        "id": "mpnnTV9F0rVf",
        "colab_type": "code",
        "colab": {}
      },
      "source": [
        ""
      ],
      "execution_count": 0,
      "outputs": []
    }
  ]
}