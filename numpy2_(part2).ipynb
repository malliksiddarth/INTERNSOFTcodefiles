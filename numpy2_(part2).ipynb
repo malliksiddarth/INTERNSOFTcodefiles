{
  "nbformat": 4,
  "nbformat_minor": 0,
  "metadata": {
    "colab": {
      "name": "numpy2.(part2).ipynb",
      "provenance": []
    },
    "kernelspec": {
      "name": "python3",
      "display_name": "Python 3"
    }
  },
  "cells": [
    {
      "cell_type": "code",
      "metadata": {
        "id": "6Q2zlGIxmCob",
        "colab_type": "code",
        "colab": {}
      },
      "source": [
        "import numpy as np\n"
      ],
      "execution_count": 3,
      "outputs": []
    },
    {
      "cell_type": "code",
      "metadata": {
        "id": "LE8-cfVgnYih",
        "colab_type": "code",
        "colab": {
          "base_uri": "https://localhost:8080/",
          "height": 70
        },
        "outputId": "81818d1d-8df7-4361-b79f-79dd40407bb8"
      },
      "source": [
        " b = np.arange(12).reshape(3,4)\n",
        " b"
      ],
      "execution_count": 4,
      "outputs": [
        {
          "output_type": "execute_result",
          "data": {
            "text/plain": [
              "array([[ 0,  1,  2,  3],\n",
              "       [ 4,  5,  6,  7],\n",
              "       [ 8,  9, 10, 11]])"
            ]
          },
          "metadata": {
            "tags": []
          },
          "execution_count": 4
        }
      ]
    },
    {
      "cell_type": "code",
      "metadata": {
        "id": "rxGKtQJnnRsB",
        "colab_type": "code",
        "colab": {
          "base_uri": "https://localhost:8080/",
          "height": 70
        },
        "outputId": "5c7ec50f-33a7-4c6a-d84c-66a5b60feb64"
      },
      "source": [
        "b[b>1] = 0\n",
        "b"
      ],
      "execution_count": 5,
      "outputs": [
        {
          "output_type": "execute_result",
          "data": {
            "text/plain": [
              "array([[0, 1, 0, 0],\n",
              "       [0, 0, 0, 0],\n",
              "       [0, 0, 0, 0]])"
            ]
          },
          "metadata": {
            "tags": []
          },
          "execution_count": 5
        }
      ]
    },
    {
      "cell_type": "code",
      "metadata": {
        "id": "BRmRw4E4nXoK",
        "colab_type": "code",
        "colab": {
          "base_uri": "https://localhost:8080/",
          "height": 70
        },
        "outputId": "37adccbb-d14a-4bc6-fb11-ff2005430cda"
      },
      "source": [
        "b[b == 0] =-1\n",
        "b"
      ],
      "execution_count": 6,
      "outputs": [
        {
          "output_type": "execute_result",
          "data": {
            "text/plain": [
              "array([[-1,  1, -1, -1],\n",
              "       [-1, -1, -1, -1],\n",
              "       [-1, -1, -1, -1]])"
            ]
          },
          "metadata": {
            "tags": []
          },
          "execution_count": 6
        }
      ]
    },
    {
      "cell_type": "code",
      "metadata": {
        "id": "6RHmCx0uoek7",
        "colab_type": "code",
        "colab": {
          "base_uri": "https://localhost:8080/",
          "height": 70
        },
        "outputId": "c90a2d0a-8a32-4792-d493-7db26eb5e3dc"
      },
      "source": [
        "b == -1"
      ],
      "execution_count": 7,
      "outputs": [
        {
          "output_type": "execute_result",
          "data": {
            "text/plain": [
              "array([[ True, False,  True,  True],\n",
              "       [ True,  True,  True,  True],\n",
              "       [ True,  True,  True,  True]])"
            ]
          },
          "metadata": {
            "tags": []
          },
          "execution_count": 7
        }
      ]
    },
    {
      "cell_type": "code",
      "metadata": {
        "id": "yR-LFmHFouLZ",
        "colab_type": "code",
        "colab": {
          "base_uri": "https://localhost:8080/",
          "height": 123
        },
        "outputId": "dec93b19-76c1-42ab-ed13-5fe1142f8b6b"
      },
      "source": [
        "b = np.arange(12).reshape(3,4)\n",
        "print(b)\n",
        "b[np.logical_and(b > 3,b<=9)] = 0.0\n",
        "b"
      ],
      "execution_count": 26,
      "outputs": [
        {
          "output_type": "stream",
          "text": [
            "[[ 0  1  2  3]\n",
            " [ 4  5  6  7]\n",
            " [ 8  9 10 11]]\n"
          ],
          "name": "stdout"
        },
        {
          "output_type": "execute_result",
          "data": {
            "text/plain": [
              "array([[ 0,  1,  2,  3],\n",
              "       [ 0,  0,  0,  0],\n",
              "       [ 0,  0, 10, 11]])"
            ]
          },
          "metadata": {
            "tags": []
          },
          "execution_count": 26
        }
      ]
    },
    {
      "cell_type": "code",
      "metadata": {
        "id": "ZZBCdQOWp2Eq",
        "colab_type": "code",
        "colab": {
          "base_uri": "https://localhost:8080/",
          "height": 70
        },
        "outputId": "69a80d77-e421-4be0-b05f-ec9e82ef77d6"
      },
      "source": [
        "b> 4"
      ],
      "execution_count": 27,
      "outputs": [
        {
          "output_type": "execute_result",
          "data": {
            "text/plain": [
              "array([[False, False, False, False],\n",
              "       [False, False, False, False],\n",
              "       [False, False,  True,  True]])"
            ]
          },
          "metadata": {
            "tags": []
          },
          "execution_count": 27
        }
      ]
    },
    {
      "cell_type": "code",
      "metadata": {
        "id": "2ZgOCN67rV6R",
        "colab_type": "code",
        "colab": {
          "base_uri": "https://localhost:8080/",
          "height": 283
        },
        "outputId": "11ef4f37-8598-4e4b-f347-221af77b2533"
      },
      "source": [
        "a = 35\n",
        "b = 62\n",
        "xmin = ymin = 0.0\n",
        "xmax =ymax = 1.1\n",
        "x = np.linspace(xmin,xmax,a,endpoint =True)\n",
        "y = np.linspace(ymin,ymax,b,endpoint = False)\n",
        "print(x.shape)\n",
        "print(y.shape)\n",
        "x\n",
        "y\n",
        " "
      ],
      "execution_count": 30,
      "outputs": [
        {
          "output_type": "stream",
          "text": [
            "(35,)\n",
            "(62,)\n"
          ],
          "name": "stdout"
        },
        {
          "output_type": "execute_result",
          "data": {
            "text/plain": [
              "array([0.        , 0.01774194, 0.03548387, 0.05322581, 0.07096774,\n",
              "       0.08870968, 0.10645161, 0.12419355, 0.14193548, 0.15967742,\n",
              "       0.17741935, 0.19516129, 0.21290323, 0.23064516, 0.2483871 ,\n",
              "       0.26612903, 0.28387097, 0.3016129 , 0.31935484, 0.33709677,\n",
              "       0.35483871, 0.37258065, 0.39032258, 0.40806452, 0.42580645,\n",
              "       0.44354839, 0.46129032, 0.47903226, 0.49677419, 0.51451613,\n",
              "       0.53225806, 0.55      , 0.56774194, 0.58548387, 0.60322581,\n",
              "       0.62096774, 0.63870968, 0.65645161, 0.67419355, 0.69193548,\n",
              "       0.70967742, 0.72741935, 0.74516129, 0.76290323, 0.78064516,\n",
              "       0.7983871 , 0.81612903, 0.83387097, 0.8516129 , 0.86935484,\n",
              "       0.88709677, 0.90483871, 0.92258065, 0.94032258, 0.95806452,\n",
              "       0.97580645, 0.99354839, 1.01129032, 1.02903226, 1.04677419,\n",
              "       1.06451613, 1.08225806])"
            ]
          },
          "metadata": {
            "tags": []
          },
          "execution_count": 30
        }
      ]
    },
    {
      "cell_type": "code",
      "metadata": {
        "id": "leHM8zeJxtw8",
        "colab_type": "code",
        "colab": {}
      },
      "source": [
        "import time\n",
        "import numpy as np\n",
        "a =34\n",
        "b =56\n",
        "x = np.linspace(0.0,1.1,a,endpoint =True)\n",
        "y = np.linspace(0.0,1.1,b,endpoint = False)"
      ],
      "execution_count": 32,
      "outputs": []
    },
    {
      "cell_type": "code",
      "metadata": {
        "id": "nInTA4XpzW8J",
        "colab_type": "code",
        "colab": {
          "base_uri": "https://localhost:8080/",
          "height": 34
        },
        "outputId": "116591ae-c1e8-4d44-b949-cff8a8a74025"
      },
      "source": [
        "t0 = time.time()\n",
        "g = np.zeros((a,b))\n",
        "for i in range (a):\n",
        "  for j in range(b):\n",
        "    g[i,j] = np.sin(2.0*np.pi*x[i]*y[j])\n",
        "\n",
        "t1 = time.time()\n",
        "print(\"time elapsed:{}s\".format(t1-t0))"
      ],
      "execution_count": 34,
      "outputs": [
        {
          "output_type": "stream",
          "text": [
            "time elapsed:0.009803533554077148s\n"
          ],
          "name": "stdout"
        }
      ]
    },
    {
      "cell_type": "code",
      "metadata": {
        "id": "EIxrYP8-0ydV",
        "colab_type": "code",
        "colab": {
          "base_uri": "https://localhost:8080/",
          "height": 390
        },
        "outputId": "941ce5c1-0380-45c7-e7d1-410fcccbd084"
      },
      "source": [
        "x2d,y2d = np.meshgrid(x,y,indexing =\"ij\")\n",
        "print(x2d[:,0])\n",
        "print (x2d[0,:])\n",
        "print(y2d[0,:])\n",
        "print(y2d[:,0])"
      ],
      "execution_count": 35,
      "outputs": [
        {
          "output_type": "stream",
          "text": [
            "[0.         0.03333333 0.06666667 0.1        0.13333333 0.16666667\n",
            " 0.2        0.23333333 0.26666667 0.3        0.33333333 0.36666667\n",
            " 0.4        0.43333333 0.46666667 0.5        0.53333333 0.56666667\n",
            " 0.6        0.63333333 0.66666667 0.7        0.73333333 0.76666667\n",
            " 0.8        0.83333333 0.86666667 0.9        0.93333333 0.96666667\n",
            " 1.         1.03333333 1.06666667 1.1       ]\n",
            "[0. 0. 0. 0. 0. 0. 0. 0. 0. 0. 0. 0. 0. 0. 0. 0. 0. 0. 0. 0. 0. 0. 0. 0.\n",
            " 0. 0. 0. 0. 0. 0. 0. 0. 0. 0. 0. 0. 0. 0. 0. 0. 0. 0. 0. 0. 0. 0. 0. 0.\n",
            " 0. 0. 0. 0. 0. 0. 0. 0.]\n",
            "[0.         0.01964286 0.03928571 0.05892857 0.07857143 0.09821429\n",
            " 0.11785714 0.1375     0.15714286 0.17678571 0.19642857 0.21607143\n",
            " 0.23571429 0.25535714 0.275      0.29464286 0.31428571 0.33392857\n",
            " 0.35357143 0.37321429 0.39285714 0.4125     0.43214286 0.45178571\n",
            " 0.47142857 0.49107143 0.51071429 0.53035714 0.55       0.56964286\n",
            " 0.58928571 0.60892857 0.62857143 0.64821429 0.66785714 0.6875\n",
            " 0.70714286 0.72678571 0.74642857 0.76607143 0.78571429 0.80535714\n",
            " 0.825      0.84464286 0.86428571 0.88392857 0.90357143 0.92321429\n",
            " 0.94285714 0.9625     0.98214286 1.00178571 1.02142857 1.04107143\n",
            " 1.06071429 1.08035714]\n",
            "[0. 0. 0. 0. 0. 0. 0. 0. 0. 0. 0. 0. 0. 0. 0. 0. 0. 0. 0. 0. 0. 0. 0. 0.\n",
            " 0. 0. 0. 0. 0. 0. 0. 0. 0. 0.]\n"
          ],
          "name": "stdout"
        }
      ]
    },
    {
      "cell_type": "code",
      "metadata": {
        "id": "M4TBAy8t4cMS",
        "colab_type": "code",
        "colab": {
          "base_uri": "https://localhost:8080/",
          "height": 34
        },
        "outputId": "073df80d-e48e-4f59-d49b-a65467a75ad8"
      },
      "source": [
        "t0 = time.time()\n",
        "g2 = np.sin(2.0*np.pi*x[i]*y[j])\n",
        "\n",
        "t1 = time.time()\n",
        "print(\"time elapsed:{}s\".format(t1-t0))"
      ],
      "execution_count": 37,
      "outputs": [
        {
          "output_type": "stream",
          "text": [
            "time elapsed:0.0002224445343017578s\n"
          ],
          "name": "stdout"
        }
      ]
    },
    {
      "cell_type": "code",
      "metadata": {
        "id": "R_Nc0xtk5Pk7",
        "colab_type": "code",
        "colab": {
          "base_uri": "https://localhost:8080/",
          "height": 34
        },
        "outputId": "0faa248f-933f-4132-9b2d-0b9d4a7d1a30"
      },
      "source": [
        "a = np.array([1,2,3,4])\n",
        "b = np.array([3,43,4,4])\n",
        "np.concatenate([b,a])"
      ],
      "execution_count": 39,
      "outputs": [
        {
          "output_type": "execute_result",
          "data": {
            "text/plain": [
              "array([ 3, 43,  4,  4,  1,  2,  3,  4])"
            ]
          },
          "metadata": {
            "tags": []
          },
          "execution_count": 39
        }
      ]
    },
    {
      "cell_type": "code",
      "metadata": {
        "id": "_2BlIChS6oHP",
        "colab_type": "code",
        "colab": {
          "base_uri": "https://localhost:8080/",
          "height": 34
        },
        "outputId": "a6f1f744-e8f4-4a01-842f-1b746eafdf2e"
      },
      "source": [
        "c = [9,0,8]\n",
        "print(np.concatenate([a,b,c]))"
      ],
      "execution_count": 42,
      "outputs": [
        {
          "output_type": "stream",
          "text": [
            "[ 1  2  3  4  3 43  4  4  9  0  8]\n"
          ],
          "name": "stdout"
        }
      ]
    },
    {
      "cell_type": "code",
      "metadata": {
        "id": "m4fuldrg8j0u",
        "colab_type": "code",
        "colab": {}
      },
      "source": [
        "grid = np.array([[1,2,3],[2,39,8]])"
      ],
      "execution_count": 43,
      "outputs": []
    },
    {
      "cell_type": "code",
      "metadata": {
        "id": "QrL1X6g79DDx",
        "colab_type": "code",
        "colab": {
          "base_uri": "https://localhost:8080/",
          "height": 87
        },
        "outputId": "8115d2f7-522d-45ea-a1ea-22dfac900420"
      },
      "source": [
        "np.concatenate([grid,grid])"
      ],
      "execution_count": 47,
      "outputs": [
        {
          "output_type": "execute_result",
          "data": {
            "text/plain": [
              "array([[  1,   2,   3],\n",
              "       [  2, 389,   8],\n",
              "       [  1,   2,   3],\n",
              "       [  2, 389,   8]])"
            ]
          },
          "metadata": {
            "tags": []
          },
          "execution_count": 47
        }
      ]
    },
    {
      "cell_type": "code",
      "metadata": {
        "id": "13lawNQ29RTF",
        "colab_type": "code",
        "colab": {
          "base_uri": "https://localhost:8080/",
          "height": 52
        },
        "outputId": "1ddf4b06-83a5-4811-aa70-1e72561a9f6e"
      },
      "source": [
        "np.concatenate([grid,grid],axis =1)"
      ],
      "execution_count": 48,
      "outputs": [
        {
          "output_type": "execute_result",
          "data": {
            "text/plain": [
              "array([[  1,   2,   3,   1,   2,   3],\n",
              "       [  2, 389,   8,   2, 389,   8]])"
            ]
          },
          "metadata": {
            "tags": []
          },
          "execution_count": 48
        }
      ]
    },
    {
      "cell_type": "code",
      "metadata": {
        "id": "M79mKQ0t-AFw",
        "colab_type": "code",
        "colab": {
          "base_uri": "https://localhost:8080/",
          "height": 34
        },
        "outputId": "9e14d205-a247-429b-cb68-309842d9a01c"
      },
      "source": [
        "y =[1,2,3,4,5,6,7,3,9]\n",
        "x = np.split(y,[3,5,8])\n",
        "print(x)"
      ],
      "execution_count": 51,
      "outputs": [
        {
          "output_type": "stream",
          "text": [
            "[array([1, 2, 3]), array([4, 5]), array([6, 7, 3]), array([9])]\n"
          ],
          "name": "stdout"
        }
      ]
    },
    {
      "cell_type": "code",
      "metadata": {
        "id": "NbquL0tP_Btz",
        "colab_type": "code",
        "colab": {
          "base_uri": "https://localhost:8080/",
          "height": 105
        },
        "outputId": "a6c70c04-fafd-4516-fce5-670f25b92b02"
      },
      "source": [
        "grid = np.arange(25).reshape(5,5)\n",
        "grid"
      ],
      "execution_count": 52,
      "outputs": [
        {
          "output_type": "execute_result",
          "data": {
            "text/plain": [
              "array([[ 0,  1,  2,  3,  4],\n",
              "       [ 5,  6,  7,  8,  9],\n",
              "       [10, 11, 12, 13, 14],\n",
              "       [15, 16, 17, 18, 19],\n",
              "       [20, 21, 22, 23, 24]])"
            ]
          },
          "metadata": {
            "tags": []
          },
          "execution_count": 52
        }
      ]
    },
    {
      "cell_type": "code",
      "metadata": {
        "id": "TboQte56Cght",
        "colab_type": "code",
        "colab": {
          "base_uri": "https://localhost:8080/",
          "height": 194
        },
        "outputId": "33d75605-f83e-4c31-ea50-1a91a4748136"
      },
      "source": [
        "left,right = np.hsplit(grid,[2])\n",
        "print(left)\n",
        "print(right)"
      ],
      "execution_count": 54,
      "outputs": [
        {
          "output_type": "stream",
          "text": [
            "[[ 0  1]\n",
            " [ 5  6]\n",
            " [10 11]\n",
            " [15 16]\n",
            " [20 21]]\n",
            "[[ 2  3  4]\n",
            " [ 7  8  9]\n",
            " [12 13 14]\n",
            " [17 18 19]\n",
            " [22 23 24]]\n"
          ],
          "name": "stdout"
        }
      ]
    },
    {
      "cell_type": "code",
      "metadata": {
        "id": "h8yHsVH5CwWM",
        "colab_type": "code",
        "colab": {
          "base_uri": "https://localhost:8080/",
          "height": 52
        },
        "outputId": "41379281-2680-4844-bb84-566d8851b549"
      },
      "source": [
        "x = np.arange(1,20)\n",
        "print(x)\n",
        "np.add.reduce(x)\n",
        "\n"
      ],
      "execution_count": 55,
      "outputs": [
        {
          "output_type": "stream",
          "text": [
            "[ 1  2  3  4  5  6  7  8  9 10 11 12 13 14 15 16 17 18 19]\n"
          ],
          "name": "stdout"
        },
        {
          "output_type": "execute_result",
          "data": {
            "text/plain": [
              "190"
            ]
          },
          "metadata": {
            "tags": []
          },
          "execution_count": 55
        }
      ]
    },
    {
      "cell_type": "code",
      "metadata": {
        "id": "SnuV2R3FDz0P",
        "colab_type": "code",
        "colab": {
          "base_uri": "https://localhost:8080/",
          "height": 34
        },
        "outputId": "63edf410-f88d-4fea-e1e0-2bc894b5158c"
      },
      "source": [
        "np.multiply.reduce(x)"
      ],
      "execution_count": 56,
      "outputs": [
        {
          "output_type": "execute_result",
          "data": {
            "text/plain": [
              "121645100408832000"
            ]
          },
          "metadata": {
            "tags": []
          },
          "execution_count": 56
        }
      ]
    },
    {
      "cell_type": "code",
      "metadata": {
        "id": "1wQoiaxTD-zO",
        "colab_type": "code",
        "colab": {
          "base_uri": "https://localhost:8080/",
          "height": 52
        },
        "outputId": "a2ceacb2-bd8e-4eaa-aecc-b62929b7ddec"
      },
      "source": [
        "np.add.accumulate(x)"
      ],
      "execution_count": 57,
      "outputs": [
        {
          "output_type": "execute_result",
          "data": {
            "text/plain": [
              "array([  1,   3,   6,  10,  15,  21,  28,  36,  45,  55,  66,  78,  91,\n",
              "       105, 120, 136, 153, 171, 190])"
            ]
          },
          "metadata": {
            "tags": []
          },
          "execution_count": 57
        }
      ]
    },
    {
      "cell_type": "code",
      "metadata": {
        "id": "VGbV8g2vEEPa",
        "colab_type": "code",
        "colab": {
          "base_uri": "https://localhost:8080/",
          "height": 141
        },
        "outputId": "b38c7279-0eeb-4831-a55c-bcd58cafcca6"
      },
      "source": [
        "np.multiply.accumulate(x)"
      ],
      "execution_count": 58,
      "outputs": [
        {
          "output_type": "execute_result",
          "data": {
            "text/plain": [
              "array([                 1,                  2,                  6,\n",
              "                       24,                120,                720,\n",
              "                     5040,              40320,             362880,\n",
              "                  3628800,           39916800,          479001600,\n",
              "               6227020800,        87178291200,      1307674368000,\n",
              "           20922789888000,    355687428096000,   6402373705728000,\n",
              "       121645100408832000])"
            ]
          },
          "metadata": {
            "tags": []
          },
          "execution_count": 58
        }
      ]
    },
    {
      "cell_type": "code",
      "metadata": {
        "id": "9m5UpTK4Eep6",
        "colab_type": "code",
        "colab": {}
      },
      "source": [
        ""
      ],
      "execution_count": null,
      "outputs": []
    }
  ]
}